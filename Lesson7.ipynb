{
 "cells": [
  {
   "cell_type": "markdown",
   "id": "fb2f2ca5",
   "metadata": {},
   "source": [
    "#### 5.1. Вектор – это частный случай матрицы 1хN и Nх1. Повторите материал для векторов, уделяя особое внимание умножению A∙B. Вычислите, по возможности не используя программирование: (5E)-1 где Е – единичная матрица размера 5х5."
   ]
  },
  {
   "cell_type": "code",
   "execution_count": 5,
   "id": "04c1905a",
   "metadata": {},
   "outputs": [],
   "source": [
    "import numpy as np"
   ]
  },
  {
   "cell_type": "code",
   "execution_count": 8,
   "id": "e0054236",
   "metadata": {},
   "outputs": [
    {
     "name": "stdout",
     "output_type": "stream",
     "text": [
      "[[1. 0. 0. 0. 0.]\n",
      " [0. 1. 0. 0. 0.]\n",
      " [0. 0. 1. 0. 0.]\n",
      " [0. 0. 0. 1. 0.]\n",
      " [0. 0. 0. 0. 1.]]\n"
     ]
    }
   ],
   "source": [
    "E = np.identity(5)\n",
    "print(E)"
   ]
  },
  {
   "cell_type": "markdown",
   "id": "d64a100e",
   "metadata": {},
   "source": [
    "$E = A*A^-1$"
   ]
  },
  {
   "cell_type": "code",
   "execution_count": 9,
   "id": "303b00eb",
   "metadata": {},
   "outputs": [
    {
     "name": "stdout",
     "output_type": "stream",
     "text": [
      "[[5. 0. 0. 0. 0.]\n",
      " [0. 5. 0. 0. 0.]\n",
      " [0. 0. 5. 0. 0.]\n",
      " [0. 0. 0. 5. 0.]\n",
      " [0. 0. 0. 0. 5.]]\n"
     ]
    }
   ],
   "source": [
    "E_5 = E*5\n",
    "print(E_5)"
   ]
  },
  {
   "cell_type": "code",
   "execution_count": 10,
   "id": "6956fa46",
   "metadata": {},
   "outputs": [
    {
     "name": "stdout",
     "output_type": "stream",
     "text": [
      "[[0.2 0.  0.  0.  0. ]\n",
      " [0.  0.2 0.  0.  0. ]\n",
      " [0.  0.  0.2 0.  0. ]\n",
      " [0.  0.  0.  0.2 0. ]\n",
      " [0.  0.  0.  0.  0.2]]\n"
     ]
    }
   ],
   "source": [
    "E_5_inv = np.linalg.inv(E_5)\n",
    "print(E_5_inv)"
   ]
  },
  {
   "cell_type": "code",
   "execution_count": 13,
   "id": "d2b6587c",
   "metadata": {},
   "outputs": [
    {
     "data": {
      "text/plain": [
       "array([[1., 0., 0., 0., 0.],\n",
       "       [0., 1., 0., 0., 0.],\n",
       "       [0., 0., 1., 0., 0.],\n",
       "       [0., 0., 0., 1., 0.],\n",
       "       [0., 0., 0., 0., 1.]])"
      ]
     },
     "execution_count": 13,
     "metadata": {},
     "output_type": "execute_result"
    }
   ],
   "source": [
    "np.dot(E_5_inv, E_5)"
   ]
  },
  {
   "cell_type": "code",
   "execution_count": 14,
   "id": "1b63e339",
   "metadata": {},
   "outputs": [
    {
     "data": {
      "text/plain": [
       "array([[1., 0., 0., 0., 0.],\n",
       "       [0., 1., 0., 0., 0.],\n",
       "       [0., 0., 1., 0., 0.],\n",
       "       [0., 0., 0., 1., 0.],\n",
       "       [0., 0., 0., 0., 1.]])"
      ]
     },
     "execution_count": 14,
     "metadata": {},
     "output_type": "execute_result"
    }
   ],
   "source": [
    "np.dot(E_5, E_5_inv)"
   ]
  },
  {
   "cell_type": "markdown",
   "id": "473f0ce6",
   "metadata": {},
   "source": []
  },
  {
   "cell_type": "markdown",
   "id": "a0c91c8a",
   "metadata": {},
   "source": [
    "#### 5.2. Вычислите определитель: \n",
    "#### [1, 2, 3\n",
    "#### 4, 0, 6\n",
    "#### 7, 8, 9]"
   ]
  },
  {
   "cell_type": "code",
   "execution_count": 16,
   "id": "23c8cdcd",
   "metadata": {},
   "outputs": [
    {
     "name": "stdout",
     "output_type": "stream",
     "text": [
      "[[1 2 3]\n",
      " [4 0 6]\n",
      " [7 8 9]]\n"
     ]
    }
   ],
   "source": [
    "a = np.array([[1, 2, 3], [4, 0, 6], [7, 8, 9]])\n",
    "print(a)"
   ]
  },
  {
   "cell_type": "code",
   "execution_count": 20,
   "id": "6e47861e",
   "metadata": {
    "scrolled": true
   },
   "outputs": [
    {
     "name": "stdout",
     "output_type": "stream",
     "text": [
      "60\n"
     ]
    }
   ],
   "source": [
    "# Находим определитель матрицы:\n",
    "\n",
    "det_a = 1*(0*9 - 6*8) - 2*(4*9 - 6*7) + 3*(4*8 - 0*7)\n",
    "print(det_a)"
   ]
  },
  {
   "cell_type": "markdown",
   "id": "f43beccf",
   "metadata": {},
   "source": []
  },
  {
   "cell_type": "markdown",
   "id": "91ff874e",
   "metadata": {},
   "source": [
    "#### 5.3.1. Вычислите матрицу, обратную данной:\n",
    "#### [1, 2, 3\n",
    "#### 4, 0, 6\n",
    "#### 7, 8, 9]"
   ]
  },
  {
   "cell_type": "code",
   "execution_count": 27,
   "id": "6688d90c",
   "metadata": {},
   "outputs": [
    {
     "name": "stdout",
     "output_type": "stream",
     "text": [
      "[[1 2 3]\n",
      " [4 0 6]\n",
      " [7 8 9]]\n"
     ]
    }
   ],
   "source": [
    "B = np.array([[1, 2, 3], [4, 0, 6], [7, 8, 9]])\n",
    "print(B)"
   ]
  },
  {
   "cell_type": "code",
   "execution_count": 28,
   "id": "7422ef4c",
   "metadata": {},
   "outputs": [
    {
     "name": "stdout",
     "output_type": "stream",
     "text": [
      "60\n"
     ]
    }
   ],
   "source": [
    "# Находим определитель матрицы:\n",
    "\n",
    "det_B = 1*(0*9 - 6*8) - 2*(4*9 - 6*7) + 3*(4*8 - 0*7)\n",
    "print(det_B)"
   ]
  },
  {
   "cell_type": "code",
   "execution_count": 29,
   "id": "0749f213",
   "metadata": {},
   "outputs": [],
   "source": [
    "# Теперь находим матрицу миноров. \n",
    "# Для этого найдем миноры элементов (их должно получиться 9) и запишем в новую матрицу:\n",
    "\n",
    "b_1 = 0*9 - 6*8\n",
    "b_2 = 4*9 - 6*7\n",
    "b_3 = 4*8 - 0*7\n",
    "b_4 = 2*9 - 3*8\n",
    "b_5 = 1*9 - 3*7\n",
    "b_6 = 1*8 - 2*7\n",
    "b_7 = 2*6 - 3*0\n",
    "b_8 = 1*6 - 3*4\n",
    "b_9 = 1*0 - 2*4"
   ]
  },
  {
   "cell_type": "code",
   "execution_count": 30,
   "id": "e6f33b7d",
   "metadata": {},
   "outputs": [
    {
     "name": "stdout",
     "output_type": "stream",
     "text": [
      "[[-48  -6  32]\n",
      " [ -6 -12  -6]\n",
      " [ 12  -6  -8]]\n"
     ]
    }
   ],
   "source": [
    "M = np.array([[b_1, b_2, b_3], [b_4, b_5, b_6], [b_7, b_8, b_9]])\n",
    "print(M)"
   ]
  },
  {
   "cell_type": "code",
   "execution_count": 32,
   "id": "5636b29a",
   "metadata": {},
   "outputs": [
    {
     "name": "stdout",
     "output_type": "stream",
     "text": [
      "[[-48   6  32]\n",
      " [  6 -12   6]\n",
      " [ 12   6  -8]]\n"
     ]
    }
   ],
   "source": [
    "# Далее находим матрицу алгебраических дополнений:\n",
    "\n",
    "B_d = np.array([[b_1, -b_2, b_3], [-b_4, b_5, -b_6], [b_7, -b_8, b_9]])\n",
    "print(B_d)"
   ]
  },
  {
   "cell_type": "code",
   "execution_count": 25,
   "id": "4d054796",
   "metadata": {},
   "outputs": [
    {
     "name": "stdout",
     "output_type": "stream",
     "text": [
      "[[-48   6  12]\n",
      " [  6 -12   6]\n",
      " [ 32   6  -8]]\n"
     ]
    }
   ],
   "source": [
    "# Находим транспонированную матрицу алгебраических дополнений:\n",
    "\n",
    "B_t = B.transpose()\n",
    "print(B_t)"
   ]
  },
  {
   "cell_type": "markdown",
   "id": "f50247b6",
   "metadata": {},
   "source": []
  },
  {
   "cell_type": "markdown",
   "id": "255a5724",
   "metadata": {},
   "source": [
    "#### 5.3.2. Приведите пример матрицы 4х4, ранг которой равен 1."
   ]
  },
  {
   "cell_type": "code",
   "execution_count": 37,
   "id": "46cc3468",
   "metadata": {},
   "outputs": [
    {
     "name": "stdout",
     "output_type": "stream",
     "text": [
      "[[1 1 1 1]\n",
      " [2 2 2 2]\n",
      " [3 3 3 3]\n",
      " [4 4 4 4]]\n"
     ]
    }
   ],
   "source": [
    "a = np.array([[1, 1, 1, 1], [2, 2, 2, 2], [3, 3, 3, 3], [4, 4, 4, 4]])\n",
    "print(a)"
   ]
  },
  {
   "cell_type": "code",
   "execution_count": 39,
   "id": "4eeaad93",
   "metadata": {},
   "outputs": [
    {
     "name": "stdout",
     "output_type": "stream",
     "text": [
      "[[2 2]\n",
      " [4 4]]\n"
     ]
    }
   ],
   "source": [
    "# Возьмем две произвольные строки, например, 2-ю и 4-ю, два произвольных столбца, например, 3-й и 4-й, \n",
    "# и числа, находящиеся на их пересечении запишем в минор второго порядка:\n",
    "\n",
    "M_2 = np.array([[2, 2], [4, 4]])\n",
    "print(M_2)"
   ]
  },
  {
   "cell_type": "code",
   "execution_count": 40,
   "id": "cc70d05f",
   "metadata": {},
   "outputs": [
    {
     "name": "stdout",
     "output_type": "stream",
     "text": [
      "0\n"
     ]
    }
   ],
   "source": [
    "m_2 = 2*4 - 2*4\n",
    "print(m_2)"
   ]
  },
  {
   "cell_type": "code",
   "execution_count": 41,
   "id": "c61850ac",
   "metadata": {},
   "outputs": [],
   "source": [
    "# Если проделать аналогичные действия с еще несколькими минорами второго порядка, то получится, что все миноры будут равны 0.\n",
    "# Следовательно, это матрица с рангом = 1"
   ]
  },
  {
   "cell_type": "markdown",
   "id": "ee9c57cc",
   "metadata": {},
   "source": []
  },
  {
   "cell_type": "markdown",
   "id": "c4c91a76",
   "metadata": {},
   "source": [
    "#### 5.4. Вычислите скалярное произведение двух векторов: (1, 5)  и  (2, 8)"
   ]
  },
  {
   "cell_type": "code",
   "execution_count": 44,
   "id": "90eb600e",
   "metadata": {},
   "outputs": [
    {
     "name": "stdout",
     "output_type": "stream",
     "text": [
      "[ 2. 40.]\n"
     ]
    }
   ],
   "source": [
    "a = np.array([1, 5], float)\n",
    "b = np.array([2, 8], float)\n",
    "print(a*b)"
   ]
  },
  {
   "cell_type": "code",
   "execution_count": 45,
   "id": "c95399af",
   "metadata": {},
   "outputs": [
    {
     "data": {
      "text/plain": [
       "42.0"
      ]
     },
     "execution_count": 45,
     "metadata": {},
     "output_type": "execute_result"
    }
   ],
   "source": [
    "np.dot(a, b)"
   ]
  },
  {
   "cell_type": "markdown",
   "id": "29051922",
   "metadata": {},
   "source": []
  },
  {
   "cell_type": "markdown",
   "id": "59708f20",
   "metadata": {},
   "source": [
    "#### 5.5 Вычислите смешанное произведение трех векторов: (1, 5, 0), (2, 8, 7) и (7, 1.5, 3) \n"
   ]
  },
  {
   "cell_type": "code",
   "execution_count": 59,
   "id": "2f95ded0",
   "metadata": {},
   "outputs": [
    {
     "name": "stdout",
     "output_type": "stream",
     "text": [
      "[[1.  5.  0. ]\n",
      " [2.  8.  7. ]\n",
      " [7.  1.5 3. ]]\n"
     ]
    }
   ],
   "source": [
    "A = np.array([[1, 5, 0], [2, 8, 7], [7, 1.5, 3]])\n",
    "print(A)"
   ]
  },
  {
   "cell_type": "code",
   "execution_count": 60,
   "id": "cd7a231c",
   "metadata": {},
   "outputs": [
    {
     "name": "stdout",
     "output_type": "stream",
     "text": [
      "228.5\n"
     ]
    }
   ],
   "source": [
    "# Ищем определитель матрицы:\n",
    "\n",
    "det_a = 1*(8*3 - 7*1.5) - 5*(2*3 - 7*7) + 0*(2*1.5 - 8*7)\n",
    "print(det_a)"
   ]
  },
  {
   "cell_type": "markdown",
   "id": "9a2ef4b6",
   "metadata": {},
   "source": []
  }
 ],
 "metadata": {
  "kernelspec": {
   "display_name": "Python 3 (ipykernel)",
   "language": "python",
   "name": "python3"
  },
  "language_info": {
   "codemirror_mode": {
    "name": "ipython",
    "version": 3
   },
   "file_extension": ".py",
   "mimetype": "text/x-python",
   "name": "python",
   "nbconvert_exporter": "python",
   "pygments_lexer": "ipython3",
   "version": "3.9.7"
  }
 },
 "nbformat": 4,
 "nbformat_minor": 5
}
