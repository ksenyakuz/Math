{
 "cells": [
  {
   "cell_type": "code",
   "execution_count": 1,
   "id": "d820cff8",
   "metadata": {},
   "outputs": [],
   "source": [
    "# 1. \n",
    "# Напишите код, моделирующий выпадение поля в рулетке (с учетом поля зеро)."
   ]
  },
  {
   "cell_type": "code",
   "execution_count": 2,
   "id": "dcbae1f4",
   "metadata": {},
   "outputs": [],
   "source": [
    "import numpy as np"
   ]
  },
  {
   "cell_type": "code",
   "execution_count": 5,
   "id": "7bc29673",
   "metadata": {},
   "outputs": [
    {
     "data": {
      "text/plain": [
       "7"
      ]
     },
     "execution_count": 5,
     "metadata": {},
     "output_type": "execute_result"
    }
   ],
   "source": [
    "np.random.randint(0, 36)"
   ]
  },
  {
   "cell_type": "raw",
   "id": "55a7600e",
   "metadata": {},
   "source": []
  },
  {
   "cell_type": "code",
   "execution_count": 6,
   "id": "317fe58f",
   "metadata": {},
   "outputs": [],
   "source": [
    "# 2. \n",
    "# Напишите код, проверяющий любую из теорем сложения или умножения вероятности на примере рулетки или подбрасывания монетки.\n",
    "# 1) Сгенерируйте десять выборок случайных чисел х0, …, х9.\n",
    "# 2) и постройте гистограмму распределения случайной суммы  +х0+ …+ х 9. "
   ]
  },
  {
   "cell_type": "code",
   "execution_count": 7,
   "id": "2ce95573",
   "metadata": {},
   "outputs": [
    {
     "name": "stdout",
     "output_type": "stream",
     "text": [
      "Выпал oрел или решка\n"
     ]
    }
   ],
   "source": [
    "k, m = 0, 0\n",
    "pk = 0.5\n",
    "pm = 0.5\n",
    "for i in range(1):\n",
    "    np.random.uniform(0, 10)\n",
    "    if i > 5:\n",
    "        k += 1\n",
    "    else:\n",
    "        m += 1\n",
    "if (pk + pm) == k or (pk + pm) == m:\n",
    "    print('Выпал oрел или решка')"
   ]
  },
  {
   "cell_type": "raw",
   "id": "bd3f5234",
   "metadata": {},
   "source": []
  },
  {
   "cell_type": "code",
   "execution_count": 12,
   "id": "8f0fb9b1",
   "metadata": {},
   "outputs": [
    {
     "name": "stdout",
     "output_type": "stream",
     "text": [
      "[ 1.60636828 -0.78618247 -1.14126048  0.68250157 -2.68861793 -2.9518328\n",
      "  5.0400533  -2.45446733  2.23795116 -0.9832998 ]\n"
     ]
    }
   ],
   "source": [
    "x0 = np.random.randn(10)\n",
    "x1 = np.random.randn(10)\n",
    "x2 = np.random.randn(10)\n",
    "x3 = np.random.randn(10)\n",
    "x4 = np.random.randn(10)\n",
    "x5 = np.random.randn(10)\n",
    "x6 = np.random.randn(10)\n",
    "x7 = np.random.randn(10)\n",
    "x8 = np.random.randn(10)\n",
    "x9 = np.random.randn(10)\n",
    "x_sum = x0 + x1 + x2 + x3 + x4 + x5 + x6 + x7 + x8 + x9\n",
    "print(x_sum)"
   ]
  },
  {
   "cell_type": "raw",
   "id": "e31660ec",
   "metadata": {},
   "source": []
  },
  {
   "cell_type": "code",
   "execution_count": 14,
   "id": "798b442c",
   "metadata": {},
   "outputs": [],
   "source": [
    "import matplotlib.pyplot as plt\n",
    "import matplotlib.mlab as mlab\n",
    "\n",
    "%matplotlib inline"
   ]
  },
  {
   "cell_type": "code",
   "execution_count": 15,
   "id": "638c87ab",
   "metadata": {},
   "outputs": [
    {
     "data": {
      "text/plain": [
       "Text(0.5, 1.0, 'Histogram')"
      ]
     },
     "execution_count": 15,
     "metadata": {},
     "output_type": "execute_result"
    },
    {
     "data": {
      "image/png": "[encoded data removed]",
      "text/plain": [
       "<Figure size 432x288 with 1 Axes>"
      ]
     },
     "metadata": {
      "needs_background": "light"
     },
     "output_type": "display_data"
    }
   ],
   "source": [
    "plt.hist(x_sum)\n",
    "plt.title('Histogram')"
   ]
  },
  {
   "cell_type": "raw",
   "id": "f7cf591a",
   "metadata": {},
   "source": []
  },
  {
   "cell_type": "code",
   "execution_count": 16,
   "id": "04e6b054",
   "metadata": {},
   "outputs": [],
   "source": [
    "# 3.\n",
    "# 1) Дополните код Монте-Карло последовательности независимых испытаний расчетом соответствующих вероятностей \n",
    "# (через биномиальное распределение) и сравните результаты.\n",
    "# 2) Повторите расчеты биномиальных коэффициентов и вероятностей k успехов в последовательности из n независимых испытаний, \n",
    "# взяв другие значения n и k."
   ]
  },
  {
   "cell_type": "code",
   "execution_count": 18,
   "id": "c60fb8a4",
   "metadata": {},
   "outputs": [
    {
     "name": "stdout",
     "output_type": "stream",
     "text": [
      "1878 5000 0.3756\n"
     ]
    }
   ],
   "source": [
    "k = 2\n",
    "n = 5000\n",
    "a = np.random.randint(0, 2, n)\n",
    "b = np.random.randint(0, 2, n)\n",
    "c = np.random.randint(0, 2, n)\n",
    "d = np.random.randint(0, 2, n)\n",
    "x = a + b + c + d\n",
    "for i in range(0, n):\n",
    "    if x[i] == 2:\n",
    "        k = k + 1\n",
    "print(k, n, k/n)"
   ]
  },
  {
   "cell_type": "code",
   "execution_count": 19,
   "id": "278766e9",
   "metadata": {},
   "outputs": [
    {
     "data": {
      "text/plain": [
       "0.375"
      ]
     },
     "execution_count": 19,
     "metadata": {},
     "output_type": "execute_result"
    }
   ],
   "source": [
    "P = 6 / 2**4\n",
    "P"
   ]
  },
  {
   "cell_type": "raw",
   "id": "3e860d18",
   "metadata": {},
   "source": []
  },
  {
   "cell_type": "code",
   "execution_count": 20,
   "id": "72361447",
   "metadata": {},
   "outputs": [
    {
     "name": "stdout",
     "output_type": "stream",
     "text": [
      "318 1000 0.318\n"
     ]
    }
   ],
   "source": [
    "k = 0\n",
    "n = 1000\n",
    "a = np.random.randint(0, 2, n)\n",
    "b = np.random.randint(0, 2, n)\n",
    "c = np.random.randint(0, 2, n)\n",
    "d = np.random.randint(0, 2, n)\n",
    "e = np.random.randint(0, 2, n)\n",
    "x = a + b + c + d + e\n",
    "for i in range(0, n):\n",
    "    if x[i] == 3:\n",
    "        k = k + 1\n",
    "print(k, n, k/n)"
   ]
  },
  {
   "cell_type": "code",
   "execution_count": 21,
   "id": "e7331014",
   "metadata": {},
   "outputs": [
    {
     "data": {
      "text/plain": [
       "0.3125"
      ]
     },
     "execution_count": 21,
     "metadata": {},
     "output_type": "execute_result"
    }
   ],
   "source": [
    "C_5_3 = 5*4*3*2 / (3*2*2)\n",
    "P_5_3 = C_5_3 / 2**5\n",
    "P_5_3"
   ]
  },
  {
   "cell_type": "raw",
   "id": "20b3ba41",
   "metadata": {},
   "source": []
  },
  {
   "cell_type": "code",
   "execution_count": 22,
   "id": "24b8e76c",
   "metadata": {},
   "outputs": [],
   "source": [
    "# 4. \n",
    "# Из урока по комбинаторике повторите расчеты, сгенерировав возможные варианты перестановок для других значений n и k"
   ]
  },
  {
   "cell_type": "code",
   "execution_count": 23,
   "id": "d67a5dbb",
   "metadata": {},
   "outputs": [],
   "source": [
    "import itertools"
   ]
  },
  {
   "cell_type": "code",
   "execution_count": 24,
   "id": "5f6cb88c",
   "metadata": {},
   "outputs": [
    {
     "name": "stdout",
     "output_type": "stream",
     "text": [
      "345\n",
      "354\n",
      "435\n",
      "453\n",
      "534\n",
      "543\n"
     ]
    }
   ],
   "source": [
    "for p in itertools.permutations('345', 3):\n",
    "    print(''.join(str(x) for x in p))"
   ]
  },
  {
   "cell_type": "code",
   "execution_count": 25,
   "id": "686d2a08",
   "metadata": {},
   "outputs": [
    {
     "name": "stdout",
     "output_type": "stream",
     "text": [
      "345\n",
      "346\n",
      "347\n",
      "356\n",
      "357\n",
      "367\n",
      "456\n",
      "457\n",
      "467\n",
      "567\n"
     ]
    }
   ],
   "source": [
    "for p in itertools.combinations('34567', 3):\n",
    "    print(''.join(p))"
   ]
  },
  {
   "cell_type": "raw",
   "id": "70483b9a",
   "metadata": {},
   "source": []
  },
  {
   "cell_type": "code",
   "execution_count": 27,
   "id": "d2188e78",
   "metadata": {},
   "outputs": [],
   "source": [
    "# 5. \n",
    "# Дополните код расчетом коэффициента корреляции x и y по формуле\n",
    "# R = sum((xi - xm)(yi - ym))/sqr(sum((xi - xm) 2) * (sum((yi - ym) 2)))"
   ]
  },
  {
   "cell_type": "code",
   "execution_count": 29,
   "id": "1221edb9",
   "metadata": {},
   "outputs": [
    {
     "name": "stdout",
     "output_type": "stream",
     "text": [
      "0.6872637760950511 0.16448803320092728\n",
      "0.6872637760950514 0.16448803320092747\n",
      "[[1.         0.90608032]\n",
      " [0.90608032 1.        ]]\n"
     ]
    },
    {
     "data": {
      "image/png": "[encoded data removed]",
      "text/plain": [
       "<Figure size 432x288 with 1 Axes>"
      ]
     },
     "metadata": {
      "needs_background": "light"
     },
     "output_type": "display_data"
    }
   ],
   "source": [
    "np.warnings.filterwarnings('ignore')\n",
    "\n",
    "n = 100\n",
    "r = 0.7\n",
    "x = np.random.rand(n)\n",
    "y = r*x + (1 - r)*np.random.rand(n)\n",
    "plt.plot(x, y, 'o')\n",
    "plt.xlabel('x')\n",
    "plt.ylabel('y')\n",
    "plt.grid(True)\n",
    "\n",
    "a = (np.sum(x)*np.sum(y) - n*np.sum(x*y))/(np.sum(x)*np.sum(x) - n*np.sum(x*x))\n",
    "b = (np.sum(y) - a*np.sum(x))/n\n",
    "\n",
    "A = np.vstack([x, np.ones(len(x))]).T\n",
    "a1, b1 = np.linalg.lstsq(A, y)[0]\n",
    "c = np.corrcoef(x, y)\n",
    "\n",
    "print(a, b)\n",
    "print(a1, b1)\n",
    "print(c)\n",
    "plt.plot([0, 1], [b, a + b])\n",
    "plt.show()"
   ]
  },
  {
   "cell_type": "raw",
   "id": "3a13466f",
   "metadata": {},
   "source": []
  }
 ],
 "metadata": {
  "kernelspec": {
   "display_name": "Python 3 (ipykernel)",
   "language": "python",
   "name": "python3"
  },
  "language_info": {
   "codemirror_mode": {
    "name": "ipython",
    "version": 3
   },
   "file_extension": ".py",
   "mimetype": "text/x-python",
   "name": "python",
   "nbconvert_exporter": "python",
   "pygments_lexer": "ipython3",
   "version": "3.9.7"
  }
 },
 "nbformat": 4,
 "nbformat_minor": 5
}
